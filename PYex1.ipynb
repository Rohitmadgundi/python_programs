{
 "cells": [
  {
   "cell_type": "code",
   "execution_count": 1,
   "metadata": {},
   "outputs": [
    {
     "name": "stdout",
     "output_type": "stream",
     "text": [
      "5 5 5 5 5 \r\n",
      "4 4 4 4 \r\n",
      "3 3 3 \r\n",
      "2 2 \r\n",
      "1 \r\n"
     ]
    }
   ],
   "source": [
    "def pattern(rows):\n",
    "    \n",
    " for i in range(rows, 0, -1):\n",
    "     num = i\n",
    "     for j in range(0, i):\n",
    "         print(num, end=' ')\n",
    "     print(\"\\r\")\n",
    "    \n",
    "pattern(5)  "
   ]
  },
  {
   "cell_type": "code",
   "execution_count": 2,
   "metadata": {},
   "outputs": [
    {
     "name": "stdout",
     "output_type": "stream",
     "text": [
      "Enter the number:5\n",
      " 5 \n",
      "\n",
      " 10 \n",
      "\n",
      " 15 \n",
      "\n",
      " 20 \n",
      "\n",
      " 25 \n",
      "\n",
      " 30 \n",
      "\n",
      " 35 \n",
      "\n",
      " 40 \n",
      "\n",
      " 45 \n",
      "\n",
      " 50 \n",
      "\n"
     ]
    }
   ],
   "source": [
    "def table():\n",
    "  i=1    \n",
    "  number=0    \n",
    "  number = int(input(\"Enter the number:\"))    \n",
    "  while i<=10:  \n",
    "        print(\" %d \\n\"%(number*i))    \n",
    "        i = i+1 \n",
    "table()\n",
    "        \n",
    "    "
   ]
  },
  {
   "cell_type": "code",
   "execution_count": null,
   "metadata": {},
   "outputs": [],
   "source": []
  }
 ],
 "metadata": {
  "kernelspec": {
   "display_name": "Python 3",
   "language": "python",
   "name": "python3"
  },
  "language_info": {
   "codemirror_mode": {
    "name": "ipython",
    "version": 3
   },
   "file_extension": ".py",
   "mimetype": "text/x-python",
   "name": "python",
   "nbconvert_exporter": "python",
   "pygments_lexer": "ipython3",
   "version": "3.7.6"
  }
 },
 "nbformat": 4,
 "nbformat_minor": 4
}
